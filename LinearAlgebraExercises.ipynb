{
 "cells": [
  {
   "cell_type": "code",
   "execution_count": 1,
   "id": "e70a8454-637f-4518-9fbd-6b66603abb07",
   "metadata": {},
   "outputs": [
    {
     "name": "stdout",
     "output_type": "stream",
     "text": [
      "[[21.]]\n"
     ]
    }
   ],
   "source": [
    "# Matrix Multiplier\n",
    "import numpy as np\n",
    "\n",
    "def computeProductByColumnView(A: np.array, B: np.array) -> np.array:\n",
    "    # Create new array for storing results\n",
    "    C = np.zeros((A.shape[0], B.shape[1]))\n",
    "    # Loop for each column of C\n",
    "    for i in range(C.shape[1]):\n",
    "        C[:, i] = A.dot(B[:, i])\n",
    "    return C\n",
    "\n",
    "# Verify solution\n",
    "A = np.array([[1, 4, 7]])\n",
    "B = np.array([[3], [1], [2]])\n",
    "print(computeProductByColumnView(A, B))"
   ]
  },
  {
   "cell_type": "code",
   "execution_count": 2,
   "id": "aa96bbab-0f9c-41d5-8820-a7841d1a78fb",
   "metadata": {},
   "outputs": [
    {
     "name": "stdout",
     "output_type": "stream",
     "text": [
      "25.500 , -10.500\n"
     ]
    }
   ],
   "source": [
    "#Linear System Solver\n",
    "import numpy as np\n",
    "\n",
    "def findInstersectionIfExists(e1: np.array, e2: np.array) -> str:\n",
    "    alpha = e1[0]/e2[0]\n",
    "    e2 = e2*alpha\n",
    "    if (e2==e1).all():\n",
    "        return \"There are infinitely many solutions\"\n",
    "    elif (e2[:2] == e1[:2]).all():\n",
    "        return \"Intersection does not exist\"\n",
    "    else:\n",
    "        e2 = e2 - e1\n",
    "        w2 = e2[2]/e2[1]\n",
    "        w1 = (e1[2]-(e1[1]*w2))/e1[0]\n",
    "        return '%.3f , %.3f' %(w1,w2)\n",
    "\n",
    "# Verify solution\n",
    "e1 = np.array([2, 4, 9])\n",
    "e2 = np.array([3, 7, 3])\n",
    "print(findInstersectionIfExists(e1,e2))"
   ]
  },
  {
   "cell_type": "code",
   "execution_count": 3,
   "id": "8351f065-68b5-4037-ae7a-4737dbcbfbec",
   "metadata": {},
   "outputs": [
    {
     "name": "stdout",
     "output_type": "stream",
     "text": [
      "True\n"
     ]
    }
   ],
   "source": [
    "#Linear Combination Checker\n",
    "import numpy as np\n",
    "\n",
    "def IsIntLC(A: np.array, B: np.array, C: np.array) -> bool:\n",
    "    for i in range(-100, 100):\n",
    "        for j in range(-100, 100):\n",
    "            if np.sum((i*A+j*B-C)**2)<0.00000001:\n",
    "                return True\n",
    "    return False\n",
    "\n",
    "# Verify solution\n",
    "A = np.array([[5, 3, 2], [6, 7, 8], [2, 5, 4]])\n",
    "B = np.array([[1, 1, 1], [1, 1, 1], [1, 1, 1]])\n",
    "C = np.array([[6, 4, 3], [7, 8, 9], [3, 6, 5]])\n",
    "print(IsIntLC(A, B, C))"
   ]
  },
  {
   "cell_type": "code",
   "execution_count": 4,
   "id": "4c52e017-7524-449a-862b-4ae39458424a",
   "metadata": {},
   "outputs": [
    {
     "name": "stdout",
     "output_type": "stream",
     "text": [
      "mat = [[ 1  4 -3]\n",
      " [-2  8  5]\n",
      " [ 3  4  7]] \n",
      "L = [[ 1.   0.   0. ]\n",
      " [-2.   1.   0. ]\n",
      " [ 3.  -0.5  1. ]] \n",
      "U = [[ 1  4 -3]\n",
      " [ 0 16 -1]\n",
      " [ 0  0 15]]\n"
     ]
    }
   ],
   "source": [
    "#Lower-upper Decompostion Algo\n",
    "import numpy as np\n",
    "        \n",
    "def computeLUDecomposition(mat: np.array) -> [np.array, np.array]:\n",
    "    m, n = mat.shape\n",
    "    U = mat.copy()\n",
    "    E = np.eye(n, dtype='d')\n",
    "    for i in range(n):\n",
    "        for r in range(i+1, n):\n",
    "            # Factor f to set current row's ith element to 0\n",
    "            f = U[r][i]/U[i][i]\n",
    "            \n",
    "            # If the element is already zero\n",
    "            if not f:\n",
    "                continue\n",
    "\n",
    "            elem = np.eye(n, dtype='d')\n",
    "            for c in range(i, n):\n",
    "                U[r][c] = U[r][c] - U[i][c]*f\n",
    "                # Generate corresponding elementary matrix\n",
    "                elem[r][c] = elem[r][c] - elem[i][c]*f\n",
    "            # Compute elimination matrix\n",
    "            E = np.dot(elem, E)\n",
    "            \n",
    "    # Compute L as inverse of elimination matrix\n",
    "    L = np.linalg.inv(E)\n",
    "    return L, U\n",
    "\n",
    "# Verify solution\n",
    "mat = np.array([[1, 4, -3], [-2, 8, 5], [3, 4, 7]])\n",
    "L, U = computeLUDecomposition(mat)\n",
    "print(f\"mat = {mat} \\nL = {L} \\nU = {U}\")"
   ]
  },
  {
   "cell_type": "code",
   "execution_count": 5,
   "id": "045c79cd-986f-44cd-a6b9-3a1bf131f425",
   "metadata": {},
   "outputs": [
    {
     "name": "stdout",
     "output_type": "stream",
     "text": [
      "A = [[ 1 -2]\n",
      " [ 3  1]\n",
      " [ 1  1]]\n",
      "w = [[1]\n",
      " [1]]\n",
      "b = [[9]\n",
      " [5]\n",
      " [8]])\n",
      "Sum of Squared Distances = 137\n"
     ]
    }
   ],
   "source": [
    "# Sum of squared error calc\n",
    "import numpy as np\n",
    "\n",
    "#Function to calculate Sum of Squared Error\n",
    "def calculateSSE(A: np.array, w: np.array, b: np.array) -> int:\n",
    "    # Compute d\n",
    "    d = np.dot(A,w)-b\n",
    "    # Compute sse\n",
    "    sse = np.dot(d.T,d)\n",
    "    # Convert sse from an np.array to an int and return \n",
    "    return(int(sse))\n",
    "\n",
    "\n",
    "# Verify solution\n",
    "A = np.array([[1 , -2],[3 , 1],[1 , 1]])\n",
    "w = np.array([[1],[1]])\n",
    "b = np.array([[9],[5],[8]])\n",
    "print(f\"\"\"A = {A}\\nw = {w}\\nb = {b})\"\"\")\n",
    "SSE = calculateSSE(A,w,b)\n",
    "print(f\"\"\"Sum of Squared Distances = {SSE}\"\"\")\n"
   ]
  },
  {
   "cell_type": "code",
   "execution_count": 6,
   "id": "291c4584-fa46-4a04-8ecd-c53a79546d42",
   "metadata": {},
   "outputs": [
    {
     "name": "stdout",
     "output_type": "stream",
     "text": [
      "S = [[ 5  3  2  3  7]\n",
      " [ 6  7  2  1  8]\n",
      " [ 5  3  2  3  7]\n",
      " [11 10  4  4 15]] \n",
      "Smallest subspace is of dimensions: 2\n"
     ]
    }
   ],
   "source": [
    "#Subspace dimension finder\n",
    "import numpy as np\n",
    "\n",
    "def smallestSubspaceDimensionFinder(S: np.array) -> int:\n",
    "    rank = np.linalg.matrix_rank(S)\n",
    "    return rank\n",
    "\n",
    "S = np.array([[5, 3, 2, 3, 7],\n",
    "              [6, 7, 2, 1, 8],\n",
    "              [5, 3, 2, 3, 7],\n",
    "              [11, 10, 4, 4, 15]])\n",
    "print(f\"S = {S} \\nSmallest subspace is of dimensions: {smallestSubspaceDimensionFinder(S)}\")"
   ]
  },
  {
   "cell_type": "code",
   "execution_count": 8,
   "id": "dfe1190f-f6c1-45d5-8575-f1f990a7adcd",
   "metadata": {},
   "outputs": [
    {
     "name": "stdout",
     "output_type": "stream",
     "text": [
      "Eigenvalues of\n",
      "[[3. 2.]\n",
      " [3. 4.]]\n",
      " are\n",
      "[1. 6.]\n",
      "The corresponding eigenspace-basis vectors are the columns of \n",
      "[[-0.71 -0.55]\n",
      " [ 0.71 -0.83]]\n"
     ]
    }
   ],
   "source": [
    "# computing eigenvalues and eigenvectors\n",
    "import numpy as np\n",
    "from numpy.linalg import eig\n",
    "\n",
    "A = np.array([[3, 2], [3, 4]], dtype=np.float32)\n",
    "eigVals, eigVecs = eig(A)\n",
    "print(f'Eigenvalues of\\n{A}\\n are\\n{eigVals}')\n",
    "print(f'The corresponding eigenspace-basis vectors are the columns of \\n{np.round(eigVecs, 2)}')"
   ]
  },
  {
   "cell_type": "code",
   "execution_count": 9,
   "id": "acb31d1a-98d1-44a9-909d-89bdc9c8adbf",
   "metadata": {},
   "outputs": [
    {
     "name": "stdout",
     "output_type": "stream",
     "text": [
      "Product of Eigenvalues = -0.01217375931699422\n",
      "Determinant of the matrix = -0.012173759316994182\n",
      "Sum of Eigenvalues = 0.7509657055690008\n",
      "Trace of the matrix = 0.7509657055690017\n"
     ]
    }
   ],
   "source": [
    "# properties of eigenval and eigenvect\n",
    "import numpy as np\n",
    "from numpy.linalg import det, eig\n",
    "\n",
    "A = np.random.rand(3, 3)\n",
    "eigVals, eigVecs = eig(A)\n",
    "# Verify product of eigenvalues equals determinant.\n",
    "print(f'Product of Eigenvalues = {np.prod(eigVals)}')\n",
    "print(f'Determinant of the matrix = {det(A)}')\n",
    "# Verify sum of eigenvalues equals trace.\n",
    "print(f'Sum of Eigenvalues = {np.sum(eigVals)}')\n",
    "print(f'Trace of the matrix = {np.trace(A)}')"
   ]
  },
  {
   "cell_type": "code",
   "execution_count": 11,
   "id": "c73f3d84-494b-4dac-8fb4-f0179ff8cea0",
   "metadata": {},
   "outputs": [
    {
     "name": "stdout",
     "output_type": "stream",
     "text": [
      "Shapes of U, D and Vt are : (8, 8) (8, 5) (5, 5)\n",
      "Shapes of U_hat, D_hat and Vt_hat are : (8, 2) (2, 2) (2, 5)\n",
      "The Frobenius norm of UDV^T - hats(UDV^T) is 0\n",
      "Rank(A)=2\n"
     ]
    },
    {
     "name": "stderr",
     "output_type": "stream",
     "text": [
      "C:\\Users\\zscho\\AppData\\Local\\Temp/ipykernel_3592/2192349198.py:27: DeprecationWarning: In future, it will be an error for 'np.bool_' scalars to be interpreted as an index\n",
      "  print(f'The Frobenius norm of UDV^T - hats(UDV^T) is {R[frobNorm>1e-10]}\\nRank(A)={rank(A)}')\n"
     ]
    }
   ],
   "source": [
    "#Econ SVD\n",
    "import  numpy as np\n",
    "from numpy.linalg import svd, matrix_rank as rank\n",
    "\n",
    "def diag(S, m, n):\n",
    "    D  = np.zeros((m, n))\n",
    "    k = len(S)\n",
    "    D[:k, :k]=np.diag(S)\n",
    "    return D\n",
    "\n",
    "def economicSVD(A):\n",
    "    U, S, Vt = svd(A)\n",
    "    idx = np.where(S>1e-10)[0]\n",
    "    U_hat, S_hat, Vt_hat = U[:, idx], S[idx], Vt[idx, :]\n",
    "    return U_hat, np.diag(S_hat), Vt_hat\n",
    "\n",
    "m, n = 8, 5\n",
    "A = np.random.rand(2, n)\n",
    "A = np.vstack((A, A, A, A)) # to keep the rank smaller we are repeating rows\n",
    "U, S, Vt = svd(A)\n",
    "D = diag(S, m, n)\n",
    "U_hat, D_hat, Vt_hat = economicSVD(A)\n",
    "print(f'Shapes of U, D and Vt are :', U.shape, D.shape, Vt.shape)\n",
    "print(f'Shapes of U_hat, D_hat and Vt_hat are :', U_hat.shape, D_hat.shape, Vt_hat.shape)\n",
    "frobNorm = np.linalg.norm(U.dot(D).dot(Vt)-U_hat.dot(D_hat).dot(Vt_hat))\n",
    "R = [0, frobNorm]\n",
    "print(f'The Frobenius norm of UDV^T - hats(UDV^T) is {R[frobNorm>1e-10]}\\nRank(A)={rank(A)}')"
   ]
  },
  {
   "cell_type": "code",
   "execution_count": null,
   "id": "8a2bd5a2-6221-4e49-9ac4-07c39092d4f4",
   "metadata": {},
   "outputs": [],
   "source": []
  }
 ],
 "metadata": {
  "kernelspec": {
   "display_name": "Python 3 (ipykernel)",
   "language": "python",
   "name": "python3"
  },
  "language_info": {
   "codemirror_mode": {
    "name": "ipython",
    "version": 3
   },
   "file_extension": ".py",
   "mimetype": "text/x-python",
   "name": "python",
   "nbconvert_exporter": "python",
   "pygments_lexer": "ipython3",
   "version": "3.9.7"
  }
 },
 "nbformat": 4,
 "nbformat_minor": 5
}
